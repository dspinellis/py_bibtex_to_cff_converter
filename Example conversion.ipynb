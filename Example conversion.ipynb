{
 "cells": [
  {
   "cell_type": "code",
   "execution_count": 2,
   "metadata": {},
   "outputs": [],
   "source": [
    "%load_ext autoreload\n",
    "%autoreload 2\n",
    "import citation_conversion_utilities as ccu"
   ]
  },
  {
   "cell_type": "code",
   "execution_count": 12,
   "metadata": {},
   "outputs": [],
   "source": [
    "tmp = ccu.Citation(bibtex_filepath='example_bib_files/pmlr-v199-plas22a.bib')\n",
    "tmp.input_repo_info(repo_url='https://github.com/vdplasthijs/eavesdropping')"
   ]
  },
  {
   "cell_type": "code",
   "execution_count": 13,
   "metadata": {},
   "outputs": [],
   "source": [
    "# tmp.add_orcid()"
   ]
  },
  {
   "cell_type": "code",
   "execution_count": 14,
   "metadata": {},
   "outputs": [
    {
     "name": "stdout",
     "output_type": "stream",
     "text": [
      "Saved as /home/thijs/repos/eavesdropping/CITATION.cff\n",
      "Saved as CITATION.cff\n"
     ]
    }
   ],
   "source": [
    "tmp.export_to_cff(filename='/home/thijs/repos/eavesdropping/CITATION.cff')\n",
    "tmp.export_to_cff(filename='CITATION.cff')"
   ]
  }
 ],
 "metadata": {
  "kernelspec": {
   "display_name": "py37",
   "language": "python",
   "name": "python3"
  },
  "language_info": {
   "codemirror_mode": {
    "name": "ipython",
    "version": 3
   },
   "file_extension": ".py",
   "mimetype": "text/x-python",
   "name": "python",
   "nbconvert_exporter": "python",
   "pygments_lexer": "ipython3",
   "version": "3.7.4"
  },
  "orig_nbformat": 4,
  "vscode": {
   "interpreter": {
    "hash": "b3c6bff6b69abaf96a90d989026a9cf294704cfb600e1a0547450741192dbe8d"
   }
  }
 },
 "nbformat": 4,
 "nbformat_minor": 2
}
